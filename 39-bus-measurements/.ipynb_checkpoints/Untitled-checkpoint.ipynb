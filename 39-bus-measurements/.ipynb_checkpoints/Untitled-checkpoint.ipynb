{
 "cells": [
  {
   "cell_type": "code",
   "execution_count": 27,
   "id": "4f31c8cb-d596-4eb0-84a1-051d9f951758",
   "metadata": {},
   "outputs": [
    {
     "name": "stdout",
     "output_type": "stream",
     "text": [
      "Column with highest mean: is_branch45_Overloaded\n",
      "Column with lowest mean: is_branch46_Overloaded\n"
     ]
    }
   ],
   "source": [
    "import pandas as pd\n",
    "\n",
    "# Load the CSV file into a DataFrame\n",
    "df_train_labels = pd.read_csv(\"train_labels.csv\")\n",
    "\n",
    "# Get statistics\n",
    "desc = df_train_labels.describe()\n",
    "\n",
    "# Find the column with the highest mean\n",
    "max_mean_column = desc.loc[\"mean\"].idxmax()\n",
    "max_mean_value = desc.loc[\"mean\"].max()\n",
    "\n",
    "# Find the column with the lowest mean\n",
    "min_mean_column = desc.loc[\"mean\"].idxmin()\n",
    "min_mean_value = desc.loc[\"mean\"].min()\n",
    "\n",
    "print(f\"Column with highest mean: {max_mean_column} (Mean = {max_mean_value})\")\n",
    "print(f\"Column with lowest mean: {min_mean_column} (Mean = {min_mean_value})\")\n"
   ]
  },
  {
   "cell_type": "code",
   "execution_count": null,
   "id": "1e3f2cde-642d-4932-8059-30570e4c7aea",
   "metadata": {},
   "outputs": [],
   "source": []
  }
 ],
 "metadata": {
  "kernelspec": {
   "display_name": "mp4env",
   "language": "python",
   "name": "mp4env"
  },
  "language_info": {
   "codemirror_mode": {
    "name": "ipython",
    "version": 3
   },
   "file_extension": ".py",
   "mimetype": "text/x-python",
   "name": "python",
   "nbconvert_exporter": "python",
   "pygments_lexer": "ipython3",
   "version": "3.12.9"
  }
 },
 "nbformat": 4,
 "nbformat_minor": 5
}
